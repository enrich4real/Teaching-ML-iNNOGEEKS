{
 "cells": [
  {
   "cell_type": "markdown",
   "id": "a1025abe",
   "metadata": {},
   "source": [
    "# <U>EXPLORATORY DATA ANALYSIS</U>\n",
    "\n",
    "## 0. Pre-processing\n",
    "## 1. Analysis\n",
    "## 2. Feature Engineering\n",
    "## 3. Handling Outliers"
   ]
  },
  {
   "cell_type": "code",
   "execution_count": 1,
   "id": "028d97fd",
   "metadata": {},
   "outputs": [],
   "source": [
    "import seaborn as sns\n",
    "import matplotlib.pyplot as plt\n",
    "%matplotlib inline"
   ]
  }
 ],
 "metadata": {
  "kernelspec": {
   "display_name": "Python 3 (ipykernel)",
   "language": "python",
   "name": "python3"
  },
  "language_info": {
   "codemirror_mode": {
    "name": "ipython",
    "version": 3
   },
   "file_extension": ".py",
   "mimetype": "text/x-python",
   "name": "python",
   "nbconvert_exporter": "python",
   "pygments_lexer": "ipython3",
   "version": "3.9.12"
  }
 },
 "nbformat": 4,
 "nbformat_minor": 5
}
