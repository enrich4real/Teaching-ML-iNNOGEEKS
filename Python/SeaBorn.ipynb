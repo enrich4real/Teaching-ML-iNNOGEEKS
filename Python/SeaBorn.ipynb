{
 "cells": [
  {
   "cell_type": "code",
   "execution_count": 1,
   "id": "5b139fc1",
   "metadata": {},
   "outputs": [],
   "source": [
    "#types of Objects \n",
    "#Axes \n",
    "#FiguLevel "
   ]
  },
  {
   "cell_type": "code",
   "execution_count": 2,
   "id": "d293134f",
   "metadata": {},
   "outputs": [],
   "source": [
    "#relational \n",
    "#1> scatterPlot \n",
    "#2>Line Plot \n",
    "\n",
    "\n",
    "#DistributionPLot \n",
    "#1>Histogram \n",
    "#2>kdePLot \n",
    "#3>RegPlot \n",
    "\n",
    "#Catagorical Plot \n",
    "\n",
    "#1>bar\n",
    "#2>countPlot \n",
    "#3>BoxPlot \n",
    "#4>violin \n",
    "\n",
    "\n",
    "#Matrix \n",
    "#1>heatmap \n",
    "#2>clustermap \n",
    "\n",
    "\n",
    "\n"
   ]
  },
  {
   "cell_type": "code",
   "execution_count": null,
   "id": "30c35b30",
   "metadata": {},
   "outputs": [],
   "source": []
  }
 ],
 "metadata": {
  "kernelspec": {
   "display_name": "Python 3 (ipykernel)",
   "language": "python",
   "name": "python3"
  },
  "language_info": {
   "codemirror_mode": {
    "name": "ipython",
    "version": 3
   },
   "file_extension": ".py",
   "mimetype": "text/x-python",
   "name": "python",
   "nbconvert_exporter": "python",
   "pygments_lexer": "ipython3",
   "version": "3.10.8"
  }
 },
 "nbformat": 4,
 "nbformat_minor": 5
}
