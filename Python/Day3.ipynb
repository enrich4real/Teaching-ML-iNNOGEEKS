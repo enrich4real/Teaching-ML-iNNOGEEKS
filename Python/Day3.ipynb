{
 "cells": [
  {
   "cell_type": "markdown",
   "id": "7f948874",
   "metadata": {},
   "source": [
    "# Lists"
   ]
  },
  {
   "cell_type": "code",
   "execution_count": 1,
   "id": "2902692d",
   "metadata": {},
   "outputs": [
    {
     "name": "stdout",
     "output_type": "stream",
     "text": [
      "1\n",
      "2\n",
      "3\n",
      "4\n",
      "5\n",
      "6\n",
      "7\n",
      "8\n",
      "9\n"
     ]
    }
   ],
   "source": [
    "for i in range(1,10):\n",
    "    print(i)"
   ]
  },
  {
   "cell_type": "code",
   "execution_count": 2,
   "id": "29dd8227",
   "metadata": {},
   "outputs": [],
   "source": [
    "list=[]"
   ]
  },
  {
   "cell_type": "code",
   "execution_count": 3,
   "id": "61015bb5",
   "metadata": {},
   "outputs": [
    {
     "data": {
      "text/plain": [
       "[10]"
      ]
     },
     "execution_count": 3,
     "metadata": {},
     "output_type": "execute_result"
    }
   ],
   "source": [
    "list.append(10)\n",
    "list"
   ]
  },
  {
   "cell_type": "code",
   "execution_count": 4,
   "id": "990b908a",
   "metadata": {},
   "outputs": [
    {
     "data": {
      "text/plain": [
       "[10, 20]"
      ]
     },
     "execution_count": 4,
     "metadata": {},
     "output_type": "execute_result"
    }
   ],
   "source": [
    "list.append(20)\n",
    "list"
   ]
  },
  {
   "cell_type": "code",
   "execution_count": 5,
   "id": "b419c810",
   "metadata": {},
   "outputs": [
    {
     "data": {
      "text/plain": [
       "[10, 20, 'innogeeks']"
      ]
     },
     "execution_count": 5,
     "metadata": {},
     "output_type": "execute_result"
    }
   ],
   "source": [
    "list.append(\"innogeeks\")\n",
    "list"
   ]
  },
  {
   "cell_type": "code",
   "execution_count": 6,
   "id": "04817233",
   "metadata": {},
   "outputs": [
    {
     "data": {
      "text/plain": [
       "[10, 20, 30, 'innogeeks']"
      ]
     },
     "execution_count": 6,
     "metadata": {},
     "output_type": "execute_result"
    }
   ],
   "source": [
    "list.insert(2,30)\n",
    "list"
   ]
  },
  {
   "cell_type": "code",
   "execution_count": 7,
   "id": "2f8dd287",
   "metadata": {},
   "outputs": [
    {
     "data": {
      "text/plain": [
       "'innogeeks'"
      ]
     },
     "execution_count": 7,
     "metadata": {},
     "output_type": "execute_result"
    }
   ],
   "source": [
    "list.pop()"
   ]
  },
  {
   "cell_type": "code",
   "execution_count": 8,
   "id": "a3e60988",
   "metadata": {},
   "outputs": [
    {
     "data": {
      "text/plain": [
       "[10, 20, 30]"
      ]
     },
     "execution_count": 8,
     "metadata": {},
     "output_type": "execute_result"
    }
   ],
   "source": [
    "list"
   ]
  },
  {
   "cell_type": "code",
   "execution_count": 9,
   "id": "bdda35c3",
   "metadata": {},
   "outputs": [
    {
     "data": {
      "text/plain": [
       "30"
      ]
     },
     "execution_count": 9,
     "metadata": {},
     "output_type": "execute_result"
    }
   ],
   "source": [
    "list.pop()"
   ]
  },
  {
   "cell_type": "code",
   "execution_count": 10,
   "id": "4814faf5",
   "metadata": {},
   "outputs": [
    {
     "data": {
      "text/plain": [
       "[10, 20]"
      ]
     },
     "execution_count": 10,
     "metadata": {},
     "output_type": "execute_result"
    }
   ],
   "source": [
    "list"
   ]
  },
  {
   "cell_type": "code",
   "execution_count": 11,
   "id": "ad05d68c",
   "metadata": {},
   "outputs": [],
   "source": [
    "list.append(40)\n",
    "list.append(\"innogeeks\")"
   ]
  },
  {
   "cell_type": "code",
   "execution_count": 12,
   "id": "2f567f3e",
   "metadata": {},
   "outputs": [
    {
     "data": {
      "text/plain": [
       "[10, 20, 40, 'innogeeks']"
      ]
     },
     "execution_count": 12,
     "metadata": {},
     "output_type": "execute_result"
    }
   ],
   "source": [
    "list"
   ]
  },
  {
   "cell_type": "code",
   "execution_count": 13,
   "id": "d1e3284c",
   "metadata": {},
   "outputs": [
    {
     "data": {
      "text/plain": [
       "40"
      ]
     },
     "execution_count": 13,
     "metadata": {},
     "output_type": "execute_result"
    }
   ],
   "source": [
    "list.pop(2)"
   ]
  },
  {
   "cell_type": "code",
   "execution_count": 14,
   "id": "0020bfa0",
   "metadata": {},
   "outputs": [
    {
     "data": {
      "text/plain": [
       "[10, 20, 'innogeeks']"
      ]
     },
     "execution_count": 14,
     "metadata": {},
     "output_type": "execute_result"
    }
   ],
   "source": [
    "list"
   ]
  },
  {
   "cell_type": "code",
   "execution_count": 15,
   "id": "cffeb428",
   "metadata": {},
   "outputs": [
    {
     "ename": "TypeError",
     "evalue": "'<' not supported between instances of 'str' and 'int'",
     "output_type": "error",
     "traceback": [
      "\u001b[1;31m---------------------------------------------------------------------------\u001b[0m",
      "\u001b[1;31mTypeError\u001b[0m                                 Traceback (most recent call last)",
      "Input \u001b[1;32mIn [15]\u001b[0m, in \u001b[0;36m<cell line: 1>\u001b[1;34m()\u001b[0m\n\u001b[1;32m----> 1\u001b[0m \u001b[38;5;28;43mlist\u001b[39;49m\u001b[38;5;241;43m.\u001b[39;49m\u001b[43msort\u001b[49m\u001b[43m(\u001b[49m\u001b[43m)\u001b[49m\n",
      "\u001b[1;31mTypeError\u001b[0m: '<' not supported between instances of 'str' and 'int'"
     ]
    }
   ],
   "source": [
    "list.sort()"
   ]
  },
  {
   "cell_type": "code",
   "execution_count": 16,
   "id": "69218f89",
   "metadata": {},
   "outputs": [
    {
     "data": {
      "text/plain": [
       "'innogeeks'"
      ]
     },
     "execution_count": 16,
     "metadata": {},
     "output_type": "execute_result"
    }
   ],
   "source": [
    "list.pop()"
   ]
  },
  {
   "cell_type": "code",
   "execution_count": 17,
   "id": "1d7c6228",
   "metadata": {},
   "outputs": [],
   "source": [
    "list.append(34)"
   ]
  },
  {
   "cell_type": "code",
   "execution_count": 18,
   "id": "956794af",
   "metadata": {},
   "outputs": [
    {
     "data": {
      "text/plain": [
       "[10, 20, 34, 67, 5]"
      ]
     },
     "execution_count": 18,
     "metadata": {},
     "output_type": "execute_result"
    }
   ],
   "source": [
    "list.append(67)\n",
    "list.append(5)\n",
    "list"
   ]
  },
  {
   "cell_type": "code",
   "execution_count": 19,
   "id": "0e798c74",
   "metadata": {},
   "outputs": [],
   "source": [
    "list.sort()"
   ]
  },
  {
   "cell_type": "code",
   "execution_count": 20,
   "id": "9630b6cc",
   "metadata": {},
   "outputs": [
    {
     "data": {
      "text/plain": [
       "[5, 10, 20, 34, 67]"
      ]
     },
     "execution_count": 20,
     "metadata": {},
     "output_type": "execute_result"
    }
   ],
   "source": [
    "list"
   ]
  },
  {
   "cell_type": "code",
   "execution_count": 21,
   "id": "9af5cb68",
   "metadata": {},
   "outputs": [
    {
     "data": {
      "text/plain": [
       "[67, 34, 20, 10, 5]"
      ]
     },
     "execution_count": 21,
     "metadata": {},
     "output_type": "execute_result"
    }
   ],
   "source": [
    "list.sort(reverse=True)\n",
    "list"
   ]
  },
  {
   "cell_type": "code",
   "execution_count": 22,
   "id": "c8594019",
   "metadata": {},
   "outputs": [],
   "source": [
    "list2=[\"suyash\",\"rachitavya\",\"himanshu\"]\n",
    "list2.sort()"
   ]
  },
  {
   "cell_type": "code",
   "execution_count": 23,
   "id": "4a75adfc",
   "metadata": {},
   "outputs": [
    {
     "data": {
      "text/plain": [
       "['himanshu', 'rachitavya', 'suyash']"
      ]
     },
     "execution_count": 23,
     "metadata": {},
     "output_type": "execute_result"
    }
   ],
   "source": [
    "list2"
   ]
  },
  {
   "cell_type": "code",
   "execution_count": 24,
   "id": "2993bee3",
   "metadata": {},
   "outputs": [],
   "source": [
    "list2.sort(key=len)"
   ]
  },
  {
   "cell_type": "code",
   "execution_count": 25,
   "id": "1ae9cdd5",
   "metadata": {},
   "outputs": [
    {
     "data": {
      "text/plain": [
       "['suyash', 'himanshu', 'rachitavya']"
      ]
     },
     "execution_count": 25,
     "metadata": {},
     "output_type": "execute_result"
    }
   ],
   "source": [
    "list2"
   ]
  },
  {
   "cell_type": "code",
   "execution_count": 26,
   "id": "238958d3",
   "metadata": {},
   "outputs": [
    {
     "data": {
      "text/plain": [
       "[67, 34, 20, 10, 5, 'suyash', 'himanshu', 'rachitavya']"
      ]
     },
     "execution_count": 26,
     "metadata": {},
     "output_type": "execute_result"
    }
   ],
   "source": [
    "list+list2"
   ]
  },
  {
   "cell_type": "code",
   "execution_count": 27,
   "id": "a2cbfd6d",
   "metadata": {},
   "outputs": [
    {
     "data": {
      "text/plain": [
       "[1, 4, 9, 16, 25, 36, 49, 64, 81, 100]"
      ]
     },
     "execution_count": 27,
     "metadata": {},
     "output_type": "execute_result"
    }
   ],
   "source": [
    "list3=[]\n",
    "for i in range(1,11):\n",
    "    list3.append(i**2)\n",
    "list3"
   ]
  },
  {
   "cell_type": "code",
   "execution_count": 28,
   "id": "c17d16b5",
   "metadata": {},
   "outputs": [],
   "source": [
    "list3=[x**3 for x in range(1,11)]"
   ]
  },
  {
   "cell_type": "code",
   "execution_count": 29,
   "id": "1e242dd7",
   "metadata": {},
   "outputs": [
    {
     "data": {
      "text/plain": [
       "[1, 8, 27, 64, 125, 216, 343, 512, 729, 1000]"
      ]
     },
     "execution_count": 29,
     "metadata": {},
     "output_type": "execute_result"
    }
   ],
   "source": [
    "list3"
   ]
  },
  {
   "cell_type": "code",
   "execution_count": 30,
   "id": "630a520c",
   "metadata": {},
   "outputs": [
    {
     "data": {
      "text/plain": [
       "[(1, 3), (1, 4), (1, 5), (2, 3), (2, 4), (2, 5), (3, 3), (3, 4), (3, 5)]"
      ]
     },
     "execution_count": 30,
     "metadata": {},
     "output_type": "execute_result"
    }
   ],
   "source": [
    "l1=[1,2,3]\n",
    "l2=[3,4,5]\n",
    "list=[]\n",
    "for i in l1:\n",
    "    for j in l2:\n",
    "        list.append((i,j))\n",
    "list"
   ]
  },
  {
   "cell_type": "code",
   "execution_count": 31,
   "id": "8cecf05b",
   "metadata": {},
   "outputs": [
    {
     "data": {
      "text/plain": [
       "[(1, 3), (1, 4), (1, 5), (2, 3), (2, 4), (2, 5), (3, 3), (3, 4), (3, 5)]"
      ]
     },
     "execution_count": 31,
     "metadata": {},
     "output_type": "execute_result"
    }
   ],
   "source": [
    "list=[(x,y) for x in l1 for y in l2 ]\n",
    "list"
   ]
  },
  {
   "cell_type": "code",
   "execution_count": 32,
   "id": "c29734ab",
   "metadata": {},
   "outputs": [
    {
     "data": {
      "text/plain": [
       "3"
      ]
     },
     "execution_count": 32,
     "metadata": {},
     "output_type": "execute_result"
    }
   ],
   "source": [
    "a=[[1,2,3],[4,5,6],[7,8,9]]\n",
    "len(a)"
   ]
  },
  {
   "cell_type": "code",
   "execution_count": 33,
   "id": "e580f1f9",
   "metadata": {},
   "outputs": [
    {
     "data": {
      "text/plain": [
       "2"
      ]
     },
     "execution_count": 33,
     "metadata": {},
     "output_type": "execute_result"
    }
   ],
   "source": [
    "a[0][1]"
   ]
  },
  {
   "cell_type": "markdown",
   "id": "75ec61bf",
   "metadata": {},
   "source": [
    "# Dictionaries\n",
    "Dictionaries are used to store data values in key:value pairs.\n",
    "\n",
    "A dictionary is a collection which is ordered, changeable and do not allow duplicates."
   ]
  },
  {
   "cell_type": "markdown",
   "id": "dedf4ada",
   "metadata": {},
   "source": [
    "##### Creating a dictionary\n"
   ]
  },
  {
   "cell_type": "code",
   "execution_count": 135,
   "id": "3557161e",
   "metadata": {},
   "outputs": [],
   "source": [
    "dict={143:\"suyash\",456:\"rachitavya\",500:\"Himanshu\"}"
   ]
  },
  {
   "cell_type": "markdown",
   "id": "52c2ca0d",
   "metadata": {},
   "source": [
    "##### Accessing items"
   ]
  },
  {
   "cell_type": "code",
   "execution_count": 161,
   "id": "2730f3ff",
   "metadata": {},
   "outputs": [
    {
     "name": "stdout",
     "output_type": "stream",
     "text": [
      "suyash Himanshu\n"
     ]
    }
   ],
   "source": [
    "print(dict[143],end=' ')\n",
    "print(dict.get(500))"
   ]
  },
  {
   "cell_type": "code",
   "execution_count": 137,
   "id": "468c216e",
   "metadata": {},
   "outputs": [
    {
     "data": {
      "text/plain": [
       "dict_keys([143, 456, 500])"
      ]
     },
     "execution_count": 137,
     "metadata": {},
     "output_type": "execute_result"
    }
   ],
   "source": [
    "dict.keys()"
   ]
  },
  {
   "cell_type": "code",
   "execution_count": 139,
   "id": "772f1098",
   "metadata": {},
   "outputs": [
    {
     "data": {
      "text/plain": [
       "dict_values(['suyash', 'rachitavya', 'Himanshu'])"
      ]
     },
     "execution_count": 139,
     "metadata": {},
     "output_type": "execute_result"
    }
   ],
   "source": [
    "dict.values()"
   ]
  },
  {
   "cell_type": "code",
   "execution_count": 138,
   "id": "b337c85b",
   "metadata": {},
   "outputs": [
    {
     "data": {
      "text/plain": [
       "dict_items([(143, 'suyash'), (456, 'rachitavya'), (500, 'Himanshu')])"
      ]
     },
     "execution_count": 138,
     "metadata": {},
     "output_type": "execute_result"
    }
   ],
   "source": [
    "dict.items()"
   ]
  },
  {
   "cell_type": "code",
   "execution_count": 144,
   "id": "aebaf6dd",
   "metadata": {},
   "outputs": [],
   "source": [
    "list1=[\"webd\",\"ML\",\"backend\",\"cloud\",\"c\",\"c++\",\"python\",\"go\",\"rust\"]\n",
    "list2=[\"docter\",\"engineer\",\"sci\",\"teacher\"]\n",
    "dict2={\"kanishk\":list1,\"jhonny sins\":list2}"
   ]
  },
  {
   "cell_type": "code",
   "execution_count": 145,
   "id": "18c76605",
   "metadata": {},
   "outputs": [
    {
     "data": {
      "text/plain": [
       "['webd', 'ML', 'backend', 'cloud', 'c', 'c++', 'python', 'go', 'rust']"
      ]
     },
     "execution_count": 145,
     "metadata": {},
     "output_type": "execute_result"
    }
   ],
   "source": [
    "dict2[\"kanishk\"]"
   ]
  },
  {
   "cell_type": "code",
   "execution_count": 146,
   "id": "83406fd5",
   "metadata": {},
   "outputs": [
    {
     "data": {
      "text/plain": [
       "['docter', 'engineer', 'sci', 'teacher']"
      ]
     },
     "execution_count": 146,
     "metadata": {},
     "output_type": "execute_result"
    }
   ],
   "source": [
    "dict2[\"jhonny sins\"]"
   ]
  },
  {
   "cell_type": "markdown",
   "id": "b128de45",
   "metadata": {},
   "source": [
    "##### Adding Items"
   ]
  },
  {
   "cell_type": "code",
   "execution_count": 151,
   "id": "cd1124e5",
   "metadata": {},
   "outputs": [
    {
     "name": "stdout",
     "output_type": "stream",
     "text": [
      "{143: 'suyash', 456: 'rachitavya', 500: 'Himanshu', 600: 'Vishesh'}\n"
     ]
    }
   ],
   "source": [
    "dict[600]='Vishesh'\n",
    "print(dict)"
   ]
  },
  {
   "cell_type": "code",
   "execution_count": 155,
   "id": "6690bf32",
   "metadata": {},
   "outputs": [
    {
     "name": "stdout",
     "output_type": "stream",
     "text": [
      "{143: 'suyash', 456: 'rachitavya', 500: 'Himanshu', 600: 'Vishesh', 700: 'Ambuj', 800: 'Devesh'}\n"
     ]
    }
   ],
   "source": [
    "dict.update({700:'Ambuj',800:'Devesh'})\n",
    "print(dict)"
   ]
  },
  {
   "cell_type": "code",
   "execution_count": 167,
   "id": "dd37926c",
   "metadata": {},
   "outputs": [
    {
     "name": "stdout",
     "output_type": "stream",
     "text": [
      "{143: 'suyash', 456: 'rachitavya', 500: 'Himanshu', 600: 'Vishesh', 700: 'Ambuj', 800: 'Jyoti'}\n"
     ]
    }
   ],
   "source": [
    "dict[800]='Jyoti'  #this will update the value in 800 key.\n",
    "print(dict)"
   ]
  },
  {
   "cell_type": "markdown",
   "id": "08a43463",
   "metadata": {},
   "source": [
    "##### Removing item : pop(),del , clear()"
   ]
  },
  {
   "cell_type": "code",
   "execution_count": 168,
   "id": "1a91a824",
   "metadata": {},
   "outputs": [
    {
     "name": "stdout",
     "output_type": "stream",
     "text": [
      "{143: 'suyash', 456: 'rachitavya', 500: 'Himanshu', 600: 'Vishesh', 700: 'Ambuj'}\n"
     ]
    }
   ],
   "source": [
    "dict.pop(800)\n",
    "print(dict)"
   ]
  },
  {
   "cell_type": "code",
   "execution_count": 169,
   "id": "8cc3d22e",
   "metadata": {},
   "outputs": [],
   "source": [
    "del dict[700]"
   ]
  },
  {
   "cell_type": "code",
   "execution_count": 170,
   "id": "c597ab59",
   "metadata": {},
   "outputs": [
    {
     "name": "stdout",
     "output_type": "stream",
     "text": [
      "{143: 'suyash', 456: 'rachitavya', 500: 'Himanshu', 600: 'Vishesh'}\n"
     ]
    }
   ],
   "source": [
    "print(dict)"
   ]
  },
  {
   "cell_type": "code",
   "execution_count": 171,
   "id": "1095d2a4",
   "metadata": {},
   "outputs": [
    {
     "name": "stdout",
     "output_type": "stream",
     "text": [
      "{'kanishk': ['webd', 'ML', 'backend', 'cloud', 'c', 'c++', 'python', 'go', 'rust'], 'jhonny sins': ['docter', 'engineer', 'sci', 'teacher']}\n"
     ]
    }
   ],
   "source": [
    "print(dict2)"
   ]
  },
  {
   "cell_type": "code",
   "execution_count": 172,
   "id": "3ea1c26b",
   "metadata": {},
   "outputs": [],
   "source": [
    "del dict2"
   ]
  },
  {
   "cell_type": "code",
   "execution_count": 173,
   "id": "981d274b",
   "metadata": {},
   "outputs": [
    {
     "ename": "NameError",
     "evalue": "name 'dict2' is not defined",
     "output_type": "error",
     "traceback": [
      "\u001b[1;31m---------------------------------------------------------------------------\u001b[0m",
      "\u001b[1;31mNameError\u001b[0m                                 Traceback (most recent call last)",
      "Input \u001b[1;32mIn [173]\u001b[0m, in \u001b[0;36m<cell line: 1>\u001b[1;34m()\u001b[0m\n\u001b[1;32m----> 1\u001b[0m \u001b[38;5;28mprint\u001b[39m(\u001b[43mdict2\u001b[49m)\n",
      "\u001b[1;31mNameError\u001b[0m: name 'dict2' is not defined"
     ]
    }
   ],
   "source": [
    "print(dict2)"
   ]
  },
  {
   "cell_type": "markdown",
   "id": "fdd8d1c3",
   "metadata": {},
   "source": [
    "##### Loop Through Dictionaries"
   ]
  },
  {
   "cell_type": "code",
   "execution_count": 175,
   "id": "16670d45",
   "metadata": {},
   "outputs": [
    {
     "name": "stdout",
     "output_type": "stream",
     "text": [
      "143\n",
      "456\n",
      "500\n",
      "600\n"
     ]
    }
   ],
   "source": [
    "for x in dict:\n",
    "    print(x)t."
   ]
  },
  {
   "cell_type": "code",
   "execution_count": 178,
   "id": "17d48538",
   "metadata": {},
   "outputs": [
    {
     "name": "stdout",
     "output_type": "stream",
     "text": [
      "suyash\n",
      "rachitavya\n",
      "Himanshu\n",
      "Vishesh\n",
      "143\n",
      "456\n",
      "500\n",
      "600\n",
      "(143, 'suyash')\n",
      "(456, 'rachitavya')\n",
      "(500, 'Himanshu')\n",
      "(600, 'Vishesh')\n"
     ]
    }
   ],
   "source": [
    "for x in dict.values():\n",
    "    print(x)\n",
    "for y in dict.keys():\n",
    "    print(y)\n",
    "for z in dict.items():\n",
    "    print(z)"
   ]
  },
  {
   "cell_type": "code",
   "execution_count": 180,
   "id": "9fa6a913",
   "metadata": {},
   "outputs": [
    {
     "name": "stdout",
     "output_type": "stream",
     "text": [
      "Key= 143  and Value= suyash\n",
      "Key= 456  and Value= rachitavya\n",
      "Key= 500  and Value= Himanshu\n",
      "Key= 600  and Value= Vishesh\n"
     ]
    }
   ],
   "source": [
    "for x,y in dict.items():\n",
    "    print('Key=',x,' and Value=',y)"
   ]
  },
  {
   "cell_type": "markdown",
   "id": "cd3d79c7",
   "metadata": {},
   "source": [
    "  "
   ]
  },
  {
   "cell_type": "markdown",
   "id": "06f3972d",
   "metadata": {},
   "source": [
    "# String formating "
   ]
  },
  {
   "cell_type": "code",
   "execution_count": 44,
   "id": "bdc3f01c",
   "metadata": {
    "scrolled": true
   },
   "outputs": [
    {
     "name": "stdout",
     "output_type": "stream",
     "text": [
      "hello your age is {a}\n"
     ]
    }
   ],
   "source": [
    "a=9\n",
    "print(\"hello your age is {a}\")"
   ]
  },
  {
   "cell_type": "code",
   "execution_count": null,
   "id": "3a71096d",
   "metadata": {},
   "outputs": [],
   "source": []
  },
  {
   "cell_type": "code",
   "execution_count": 92,
   "id": "90e708f6",
   "metadata": {},
   "outputs": [],
   "source": [
    "mydic={\"a\":4,\"b\":5,\"c\":6}"
   ]
  },
  {
   "cell_type": "code",
   "execution_count": 93,
   "id": "1518a4e7",
   "metadata": {},
   "outputs": [
    {
     "data": {
      "text/plain": [
       "dict_values([4, 5, 6])"
      ]
     },
     "execution_count": 93,
     "metadata": {},
     "output_type": "execute_result"
    }
   ],
   "source": [
    "mydic.values()"
   ]
  },
  {
   "cell_type": "code",
   "execution_count": 94,
   "id": "d7be4099",
   "metadata": {},
   "outputs": [
    {
     "data": {
      "text/plain": [
       "dict_keys(['a', 'b', 'c'])"
      ]
     },
     "execution_count": 94,
     "metadata": {},
     "output_type": "execute_result"
    }
   ],
   "source": [
    "mydic.keys()"
   ]
  },
  {
   "cell_type": "code",
   "execution_count": 95,
   "id": "9cd0923b",
   "metadata": {},
   "outputs": [
    {
     "data": {
      "text/plain": [
       "4"
      ]
     },
     "execution_count": 95,
     "metadata": {},
     "output_type": "execute_result"
    }
   ],
   "source": [
    "mydic['a']"
   ]
  },
  {
   "cell_type": "code",
   "execution_count": 96,
   "id": "6cfee2a6",
   "metadata": {},
   "outputs": [
    {
     "data": {
      "text/plain": [
       "dict"
      ]
     },
     "execution_count": 96,
     "metadata": {},
     "output_type": "execute_result"
    }
   ],
   "source": [
    "type(mydic)"
   ]
  },
  {
   "cell_type": "code",
   "execution_count": 97,
   "id": "0cd3be16",
   "metadata": {},
   "outputs": [
    {
     "data": {
      "text/plain": [
       "int"
      ]
     },
     "execution_count": 97,
     "metadata": {},
     "output_type": "execute_result"
    }
   ],
   "source": [
    "type(mydic['a'])"
   ]
  },
  {
   "cell_type": "code",
   "execution_count": 98,
   "id": "bdc38f64",
   "metadata": {},
   "outputs": [
    {
     "name": "stdout",
     "output_type": "stream",
     "text": [
      "{'a': 4, 'b': 5, 'c': 6}\n"
     ]
    }
   ],
   "source": [
    "print(mydic)"
   ]
  },
  {
   "cell_type": "code",
   "execution_count": 99,
   "id": "54206ce2",
   "metadata": {},
   "outputs": [
    {
     "data": {
      "text/plain": [
       "dict_keys(['a', 'b', 'c'])"
      ]
     },
     "execution_count": 99,
     "metadata": {},
     "output_type": "execute_result"
    }
   ],
   "source": [
    "a=mydic.keys()\n",
    "a"
   ]
  },
  {
   "cell_type": "code",
   "execution_count": 100,
   "id": "4583bb70",
   "metadata": {},
   "outputs": [
    {
     "data": {
      "text/plain": [
       "dict_keys"
      ]
     },
     "execution_count": 100,
     "metadata": {},
     "output_type": "execute_result"
    }
   ],
   "source": [
    "type(a)"
   ]
  },
  {
   "cell_type": "code",
   "execution_count": 104,
   "id": "4d8bd13c",
   "metadata": {},
   "outputs": [
    {
     "data": {
      "text/plain": [
       "{'a': 2, 'b': 4}"
      ]
     },
     "execution_count": 104,
     "metadata": {},
     "output_type": "execute_result"
    }
   ],
   "source": [
    "dic2={'a':2,'b':4}\n",
    "dic2"
   ]
  },
  {
   "cell_type": "code",
   "execution_count": 106,
   "id": "27dbee1a",
   "metadata": {},
   "outputs": [
    {
     "data": {
      "text/plain": [
       "dict_keys(['a', 'b'])"
      ]
     },
     "execution_count": 106,
     "metadata": {},
     "output_type": "execute_result"
    }
   ],
   "source": [
    "x=dic2.keys()\n",
    "x"
   ]
  },
  {
   "cell_type": "code",
   "execution_count": 108,
   "id": "700e156e",
   "metadata": {},
   "outputs": [],
   "source": [
    "x=dic2.items()"
   ]
  },
  {
   "cell_type": "code",
   "execution_count": 109,
   "id": "f86f03a1",
   "metadata": {},
   "outputs": [
    {
     "ename": "TypeError",
     "evalue": "'dict_items' object is not subscriptable",
     "output_type": "error",
     "traceback": [
      "\u001b[1;31m---------------------------------------------------------------------------\u001b[0m",
      "\u001b[1;31mTypeError\u001b[0m                                 Traceback (most recent call last)",
      "Input \u001b[1;32mIn [109]\u001b[0m, in \u001b[0;36m<cell line: 1>\u001b[1;34m()\u001b[0m\n\u001b[1;32m----> 1\u001b[0m \u001b[43mx\u001b[49m\u001b[43m[\u001b[49m\u001b[38;5;241;43m0\u001b[39;49m\u001b[43m]\u001b[49m\n",
      "\u001b[1;31mTypeError\u001b[0m: 'dict_items' object is not subscriptable"
     ]
    }
   ],
   "source": [
    "x[0]"
   ]
  },
  {
   "cell_type": "code",
   "execution_count": null,
   "id": "b686633e",
   "metadata": {},
   "outputs": [],
   "source": []
  }
 ],
 "metadata": {
  "kernelspec": {
   "display_name": "Python 3 (ipykernel)",
   "language": "python",
   "name": "python3"
  },
  "language_info": {
   "codemirror_mode": {
    "name": "ipython",
    "version": 3
   },
   "file_extension": ".py",
   "mimetype": "text/x-python",
   "name": "python",
   "nbconvert_exporter": "python",
   "pygments_lexer": "ipython3",
   "version": "3.9.12"
  }
 },
 "nbformat": 4,
 "nbformat_minor": 5
}
