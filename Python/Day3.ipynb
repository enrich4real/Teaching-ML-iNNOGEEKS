{
 "cells": [
  {
   "cell_type": "code",
   "execution_count": 2,
   "id": "2902692d",
   "metadata": {},
   "outputs": [
    {
     "name": "stdout",
     "output_type": "stream",
     "text": [
      "1\n",
      "2\n",
      "3\n",
      "4\n",
      "5\n",
      "6\n",
      "7\n",
      "8\n",
      "9\n"
     ]
    }
   ],
   "source": [
    "for i in range(1,10):\n",
    "    print(i)"
   ]
  },
  {
   "cell_type": "code",
   "execution_count": 3,
   "id": "29dd8227",
   "metadata": {},
   "outputs": [],
   "source": [
    "list=[]"
   ]
  },
  {
   "cell_type": "code",
   "execution_count": 5,
   "id": "61015bb5",
   "metadata": {},
   "outputs": [
    {
     "data": {
      "text/plain": [
       "[10]"
      ]
     },
     "execution_count": 5,
     "metadata": {},
     "output_type": "execute_result"
    }
   ],
   "source": [
    "list.append(10)\n",
    "list"
   ]
  },
  {
   "cell_type": "code",
   "execution_count": 6,
   "id": "990b908a",
   "metadata": {},
   "outputs": [
    {
     "data": {
      "text/plain": [
       "[10, 20]"
      ]
     },
     "execution_count": 6,
     "metadata": {},
     "output_type": "execute_result"
    }
   ],
   "source": [
    "list.append(20)\n",
    "list"
   ]
  },
  {
   "cell_type": "code",
   "execution_count": 7,
   "id": "b419c810",
   "metadata": {},
   "outputs": [
    {
     "data": {
      "text/plain": [
       "[10, 20, 'innogeeks']"
      ]
     },
     "execution_count": 7,
     "metadata": {},
     "output_type": "execute_result"
    }
   ],
   "source": [
    "list.append(\"innogeeks\")\n",
    "list"
   ]
  },
  {
   "cell_type": "code",
   "execution_count": 8,
   "id": "04817233",
   "metadata": {},
   "outputs": [
    {
     "data": {
      "text/plain": [
       "[10, 20, 30, 'innogeeks']"
      ]
     },
     "execution_count": 8,
     "metadata": {},
     "output_type": "execute_result"
    }
   ],
   "source": [
    "list.insert(2,30)\n",
    "list"
   ]
  },
  {
   "cell_type": "code",
   "execution_count": 9,
   "id": "2f8dd287",
   "metadata": {},
   "outputs": [
    {
     "data": {
      "text/plain": [
       "'innogeeks'"
      ]
     },
     "execution_count": 9,
     "metadata": {},
     "output_type": "execute_result"
    }
   ],
   "source": [
    "list.pop()"
   ]
  },
  {
   "cell_type": "code",
   "execution_count": 10,
   "id": "a3e60988",
   "metadata": {},
   "outputs": [
    {
     "data": {
      "text/plain": [
       "[10, 20, 30]"
      ]
     },
     "execution_count": 10,
     "metadata": {},
     "output_type": "execute_result"
    }
   ],
   "source": [
    "list"
   ]
  },
  {
   "cell_type": "code",
   "execution_count": 11,
   "id": "bdda35c3",
   "metadata": {},
   "outputs": [
    {
     "data": {
      "text/plain": [
       "30"
      ]
     },
     "execution_count": 11,
     "metadata": {},
     "output_type": "execute_result"
    }
   ],
   "source": [
    "list.pop()"
   ]
  },
  {
   "cell_type": "code",
   "execution_count": 12,
   "id": "4814faf5",
   "metadata": {},
   "outputs": [
    {
     "data": {
      "text/plain": [
       "[10, 20]"
      ]
     },
     "execution_count": 12,
     "metadata": {},
     "output_type": "execute_result"
    }
   ],
   "source": [
    "list"
   ]
  },
  {
   "cell_type": "code",
   "execution_count": 13,
   "id": "ad05d68c",
   "metadata": {},
   "outputs": [],
   "source": [
    "list.append(40)\n",
    "list.append(\"innogeeks\")"
   ]
  },
  {
   "cell_type": "code",
   "execution_count": 14,
   "id": "2f567f3e",
   "metadata": {},
   "outputs": [
    {
     "data": {
      "text/plain": [
       "[10, 20, 40, 'innogeeks']"
      ]
     },
     "execution_count": 14,
     "metadata": {},
     "output_type": "execute_result"
    }
   ],
   "source": [
    "list"
   ]
  },
  {
   "cell_type": "code",
   "execution_count": 15,
   "id": "d1e3284c",
   "metadata": {},
   "outputs": [
    {
     "data": {
      "text/plain": [
       "40"
      ]
     },
     "execution_count": 15,
     "metadata": {},
     "output_type": "execute_result"
    }
   ],
   "source": [
    "list.pop(2)"
   ]
  },
  {
   "cell_type": "code",
   "execution_count": 16,
   "id": "0020bfa0",
   "metadata": {},
   "outputs": [
    {
     "data": {
      "text/plain": [
       "[10, 20, 'innogeeks']"
      ]
     },
     "execution_count": 16,
     "metadata": {},
     "output_type": "execute_result"
    }
   ],
   "source": [
    "list"
   ]
  },
  {
   "cell_type": "code",
   "execution_count": 17,
   "id": "cffeb428",
   "metadata": {},
   "outputs": [
    {
     "ename": "TypeError",
     "evalue": "'<' not supported between instances of 'str' and 'int'",
     "output_type": "error",
     "traceback": [
      "\u001b[0;31m---------------------------------------------------------------------------\u001b[0m",
      "\u001b[0;31mTypeError\u001b[0m                                 Traceback (most recent call last)",
      "\u001b[0;32m/tmp/ipykernel_11746/1389050415.py\u001b[0m in \u001b[0;36m<module>\u001b[0;34m\u001b[0m\n\u001b[0;32m----> 1\u001b[0;31m \u001b[0mlist\u001b[0m\u001b[0;34m.\u001b[0m\u001b[0msort\u001b[0m\u001b[0;34m(\u001b[0m\u001b[0;34m)\u001b[0m\u001b[0;34m\u001b[0m\u001b[0;34m\u001b[0m\u001b[0m\n\u001b[0m",
      "\u001b[0;31mTypeError\u001b[0m: '<' not supported between instances of 'str' and 'int'"
     ]
    }
   ],
   "source": [
    "list.sort()"
   ]
  },
  {
   "cell_type": "code",
   "execution_count": 18,
   "id": "69218f89",
   "metadata": {},
   "outputs": [
    {
     "data": {
      "text/plain": [
       "'innogeeks'"
      ]
     },
     "execution_count": 18,
     "metadata": {},
     "output_type": "execute_result"
    }
   ],
   "source": [
    "list.pop()"
   ]
  },
  {
   "cell_type": "code",
   "execution_count": 19,
   "id": "1d7c6228",
   "metadata": {},
   "outputs": [],
   "source": [
    "list.append(34)"
   ]
  },
  {
   "cell_type": "code",
   "execution_count": 20,
   "id": "956794af",
   "metadata": {},
   "outputs": [
    {
     "data": {
      "text/plain": [
       "[10, 20, 34, 67, 5]"
      ]
     },
     "execution_count": 20,
     "metadata": {},
     "output_type": "execute_result"
    }
   ],
   "source": [
    "list.append(67)\n",
    "list.append(5)\n",
    "list"
   ]
  },
  {
   "cell_type": "code",
   "execution_count": 21,
   "id": "0e798c74",
   "metadata": {},
   "outputs": [],
   "source": [
    "list.sort()"
   ]
  },
  {
   "cell_type": "code",
   "execution_count": 22,
   "id": "9630b6cc",
   "metadata": {},
   "outputs": [
    {
     "data": {
      "text/plain": [
       "[5, 10, 20, 34, 67]"
      ]
     },
     "execution_count": 22,
     "metadata": {},
     "output_type": "execute_result"
    }
   ],
   "source": [
    "list"
   ]
  },
  {
   "cell_type": "code",
   "execution_count": 23,
   "id": "9af5cb68",
   "metadata": {},
   "outputs": [
    {
     "data": {
      "text/plain": [
       "[67, 34, 20, 10, 5]"
      ]
     },
     "execution_count": 23,
     "metadata": {},
     "output_type": "execute_result"
    }
   ],
   "source": [
    "list.sort(reverse=True)\n",
    "list"
   ]
  },
  {
   "cell_type": "code",
   "execution_count": 24,
   "id": "c8594019",
   "metadata": {},
   "outputs": [],
   "source": [
    "list2=[\"suyash\",\"rachitavya\",\"himanshu\"]\n",
    "list2.sort()"
   ]
  },
  {
   "cell_type": "code",
   "execution_count": 25,
   "id": "4a75adfc",
   "metadata": {},
   "outputs": [
    {
     "data": {
      "text/plain": [
       "['himanshu', 'rachitavya', 'suyash']"
      ]
     },
     "execution_count": 25,
     "metadata": {},
     "output_type": "execute_result"
    }
   ],
   "source": [
    "list2"
   ]
  },
  {
   "cell_type": "code",
   "execution_count": 26,
   "id": "2993bee3",
   "metadata": {},
   "outputs": [],
   "source": [
    "list2.sort(key=len)"
   ]
  },
  {
   "cell_type": "markdown",
   "id": "4e8062ff",
   "metadata": {},
   "source": [
    "## list"
   ]
  },
  {
   "cell_type": "code",
   "execution_count": 27,
   "id": "1ae9cdd5",
   "metadata": {},
   "outputs": [
    {
     "data": {
      "text/plain": [
       "['suyash', 'himanshu', 'rachitavya']"
      ]
     },
     "execution_count": 27,
     "metadata": {},
     "output_type": "execute_result"
    }
   ],
   "source": [
    "list2"
   ]
  },
  {
   "cell_type": "code",
   "execution_count": 28,
   "id": "238958d3",
   "metadata": {},
   "outputs": [
    {
     "data": {
      "text/plain": [
       "[67, 34, 20, 10, 5, 'suyash', 'himanshu', 'rachitavya']"
      ]
     },
     "execution_count": 28,
     "metadata": {},
     "output_type": "execute_result"
    }
   ],
   "source": [
    "list+list2"
   ]
  },
  {
   "cell_type": "code",
   "execution_count": 30,
   "id": "a2cbfd6d",
   "metadata": {},
   "outputs": [
    {
     "data": {
      "text/plain": [
       "[1, 4, 9, 16, 25, 36, 49, 64, 81, 100]"
      ]
     },
     "execution_count": 30,
     "metadata": {},
     "output_type": "execute_result"
    }
   ],
   "source": [
    "list3=[]\n",
    "for i in range(1,11):\n",
    "    list3.append(i**2)\n",
    "list3"
   ]
  },
  {
   "cell_type": "code",
   "execution_count": 32,
   "id": "c17d16b5",
   "metadata": {},
   "outputs": [],
   "source": [
    "list3=[x**3 for x in range(1,11)]"
   ]
  },
  {
   "cell_type": "code",
   "execution_count": 33,
   "id": "1e242dd7",
   "metadata": {},
   "outputs": [
    {
     "data": {
      "text/plain": [
       "[1, 8, 27, 64, 125, 216, 343, 512, 729, 1000]"
      ]
     },
     "execution_count": 33,
     "metadata": {},
     "output_type": "execute_result"
    }
   ],
   "source": [
    "list3"
   ]
  },
  {
   "cell_type": "code",
   "execution_count": 34,
   "id": "630a520c",
   "metadata": {},
   "outputs": [
    {
     "data": {
      "text/plain": [
       "[(1, 3), (1, 4), (1, 5), (2, 3), (2, 4), (2, 5), (3, 3), (3, 4), (3, 5)]"
      ]
     },
     "execution_count": 34,
     "metadata": {},
     "output_type": "execute_result"
    }
   ],
   "source": [
    "l1=[1,2,3]\n",
    "l2=[3,4,5]\n",
    "list=[]\n",
    "for i in l1:\n",
    "    for j in l2:\n",
    "        list.append((i,j))\n",
    "list"
   ]
  },
  {
   "cell_type": "code",
   "execution_count": 35,
   "id": "8cecf05b",
   "metadata": {},
   "outputs": [
    {
     "data": {
      "text/plain": [
       "[(1, 3), (1, 4), (1, 5), (2, 3), (2, 4), (2, 5), (3, 3), (3, 4), (3, 5)]"
      ]
     },
     "execution_count": 35,
     "metadata": {},
     "output_type": "execute_result"
    }
   ],
   "source": [
    "list=[(x,y) for x in l1 for y in l2 ]\n",
    "list"
   ]
  },
  {
   "cell_type": "code",
   "execution_count": 38,
   "id": "c29734ab",
   "metadata": {},
   "outputs": [
    {
     "data": {
      "text/plain": [
       "3"
      ]
     },
     "execution_count": 38,
     "metadata": {},
     "output_type": "execute_result"
    }
   ],
   "source": [
    "a=[[1,2,3],[4,5,6],[7,8,9]]\n",
    "len(a)"
   ]
  },
  {
   "cell_type": "code",
   "execution_count": 39,
   "id": "e580f1f9",
   "metadata": {},
   "outputs": [
    {
     "data": {
      "text/plain": [
       "2"
      ]
     },
     "execution_count": 39,
     "metadata": {},
     "output_type": "execute_result"
    }
   ],
   "source": [
    "a[0][1]"
   ]
  },
  {
   "cell_type": "code",
   "execution_count": 40,
   "id": "3557161e",
   "metadata": {},
   "outputs": [],
   "source": [
    "dict={143:\"suyash\",456:\"rachitavya\"}"
   ]
  },
  {
   "cell_type": "code",
   "execution_count": 41,
   "id": "2730f3ff",
   "metadata": {},
   "outputs": [
    {
     "data": {
      "text/plain": [
       "'suyash'"
      ]
     },
     "execution_count": 41,
     "metadata": {},
     "output_type": "execute_result"
    }
   ],
   "source": [
    "dict[143]"
   ]
  },
  {
   "cell_type": "code",
   "execution_count": 42,
   "id": "468c216e",
   "metadata": {},
   "outputs": [
    {
     "data": {
      "text/plain": [
       "dict_keys([143, 456])"
      ]
     },
     "execution_count": 42,
     "metadata": {},
     "output_type": "execute_result"
    }
   ],
   "source": [
    "dict.keys()"
   ]
  },
  {
   "cell_type": "code",
   "execution_count": 43,
   "id": "b337c85b",
   "metadata": {},
   "outputs": [
    {
     "data": {
      "text/plain": [
       "dict_items([(143, 'suyash'), (456, 'rachitavya')])"
      ]
     },
     "execution_count": 43,
     "metadata": {},
     "output_type": "execute_result"
    }
   ],
   "source": [
    "dict.items()"
   ]
  },
  {
   "cell_type": "code",
   "execution_count": 48,
   "id": "aebaf6dd",
   "metadata": {},
   "outputs": [],
   "source": [
    "list1=[\"webd\",\"ML\",\"backend\",\"cloud\",\"c\",\"c++\",\"python\",\"go\",\"rust\"]\n",
    "list2=[\"docter\",\"engineer\",\"sci\",\"teacher\"]\n",
    "dict={\"kanishk\":list1,\"jhonny sins\":list2}"
   ]
  },
  {
   "cell_type": "code",
   "execution_count": 49,
   "id": "18c76605",
   "metadata": {},
   "outputs": [
    {
     "data": {
      "text/plain": [
       "['webd', 'ML', 'backend', 'cloud', 'c', 'c++', 'python', 'go', 'rust']"
      ]
     },
     "execution_count": 49,
     "metadata": {},
     "output_type": "execute_result"
    }
   ],
   "source": [
    "dict[\"kanishk\"]"
   ]
  },
  {
   "cell_type": "code",
   "execution_count": 51,
   "id": "83406fd5",
   "metadata": {},
   "outputs": [
    {
     "data": {
      "text/plain": [
       "['docter', 'engineer', 'sci', 'teacher']"
      ]
     },
     "execution_count": 51,
     "metadata": {},
     "output_type": "execute_result"
    }
   ],
   "source": [
    "dict[\"jhonny sins\"]"
   ]
  },
  {
   "cell_type": "code",
   "execution_count": 52,
   "id": "69b9f008",
   "metadata": {},
   "outputs": [],
   "source": [
    "dict={143:\"suyash\",456:\"rachitavya\"}"
   ]
  },
  {
   "cell_type": "code",
   "execution_count": 53,
   "id": "16670d45",
   "metadata": {},
   "outputs": [
    {
     "name": "stdout",
     "output_type": "stream",
     "text": [
      "143 suyash\n",
      "456 rachitavya\n"
     ]
    }
   ],
   "source": [
    "for keys,values in dict.items():\n",
    "    print(keys,values)"
   ]
  },
  {
   "cell_type": "code",
   "execution_count": 54,
   "id": "9e38f9ad",
   "metadata": {},
   "outputs": [],
   "source": [
    "#string formating "
   ]
  },
  {
   "cell_type": "code",
   "execution_count": 57,
   "id": "bdc3f01c",
   "metadata": {},
   "outputs": [
    {
     "name": "stdout",
     "output_type": "stream",
     "text": [
      "hello your age is {a}\n"
     ]
    }
   ],
   "source": [
    "a=9\n",
    "print(\"hello your age is {a}\")"
   ]
  },
  {
   "cell_type": "code",
   "execution_count": null,
   "id": "eb049086",
   "metadata": {},
   "outputs": [],
   "source": []
  }
 ],
 "metadata": {
  "kernelspec": {
   "display_name": "Python 3 (ipykernel)",
   "language": "python",
   "name": "python3"
  },
  "language_info": {
   "codemirror_mode": {
    "name": "ipython",
    "version": 3
   },
   "file_extension": ".py",
   "mimetype": "text/x-python",
   "name": "python",
   "nbconvert_exporter": "python",
   "pygments_lexer": "ipython3",
   "version": "3.9.12"
  }
 },
 "nbformat": 4,
 "nbformat_minor": 5
}
