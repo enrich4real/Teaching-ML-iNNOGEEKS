{
 "cells": [
  {
   "cell_type": "markdown",
   "id": "5db16800",
   "metadata": {},
   "source": [
    "FUNCTIONS:\n",
    "  1. FUNCTION DEFINITION\n",
    "  2. FUNCTION CALLING\n",
    "  3. USE OF RETURN\n",
    "  4. PASSING ARGUMENTS\n",
    "  5. EXAMPLE\n",
    "  6. Arbitrary arguments\n",
    "  7. Keyword arbitrary arguments\n",
    "  "
   ]
  },
  {
   "cell_type": "markdown",
   "id": "6c2bbafc",
   "metadata": {},
   "source": [
    "# Basic syntax of a function\n",
    "def function_name(arg1,arg2):\n",
    "        "
   ]
  },
  {
   "cell_type": "code",
   "execution_count": 1,
   "id": "02db212d",
   "metadata": {},
   "outputs": [],
   "source": [
    "def add(a,b):\n",
    "    print(a+b)"
   ]
  },
  {
   "cell_type": "code",
   "execution_count": 2,
   "id": "c25c4c04",
   "metadata": {},
   "outputs": [
    {
     "name": "stdout",
     "output_type": "stream",
     "text": [
      "25\n"
     ]
    }
   ],
   "source": [
    "add(12,13)"
   ]
  },
  {
   "cell_type": "code",
   "execution_count": 3,
   "id": "2418554a",
   "metadata": {},
   "outputs": [],
   "source": [
    "# Function using return \n",
    "def add1(a,b):\n",
    "    return (a+b)"
   ]
  },
  {
   "cell_type": "code",
   "execution_count": 4,
   "id": "6f4e4463",
   "metadata": {},
   "outputs": [
    {
     "data": {
      "text/plain": [
       "25"
      ]
     },
     "execution_count": 4,
     "metadata": {},
     "output_type": "execute_result"
    }
   ],
   "source": [
    "add1(12,13)"
   ]
  },
  {
   "cell_type": "code",
   "execution_count": 5,
   "id": "aff4ae5e",
   "metadata": {},
   "outputs": [],
   "source": [
    "def add3(a,b):\n",
    "    c=a+b\n",
    "    print(c)"
   ]
  },
  {
   "cell_type": "code",
   "execution_count": 6,
   "id": "c418c476",
   "metadata": {},
   "outputs": [
    {
     "name": "stdout",
     "output_type": "stream",
     "text": [
      "suyashhimanshu\n"
     ]
    }
   ],
   "source": [
    "add3(\"suyash\",\"himanshu\")"
   ]
  },
  {
   "cell_type": "code",
   "execution_count": 7,
   "id": "67a4f655",
   "metadata": {},
   "outputs": [],
   "source": [
    "def add4(a,b):\n",
    "    c=9\n",
    "    return c"
   ]
  },
  {
   "cell_type": "code",
   "execution_count": 8,
   "id": "ae059a48",
   "metadata": {},
   "outputs": [
    {
     "name": "stdout",
     "output_type": "stream",
     "text": [
      "9\n"
     ]
    }
   ],
   "source": [
    "print(add4(5,6))"
   ]
  },
  {
   "cell_type": "code",
   "execution_count": 9,
   "id": "19e90a69",
   "metadata": {},
   "outputs": [
    {
     "ename": "NameError",
     "evalue": "name 'c' is not defined",
     "output_type": "error",
     "traceback": [
      "\u001b[1;31m---------------------------------------------------------------------------\u001b[0m",
      "\u001b[1;31mNameError\u001b[0m                                 Traceback (most recent call last)",
      "Input \u001b[1;32mIn [9]\u001b[0m, in \u001b[0;36m<cell line: 1>\u001b[1;34m()\u001b[0m\n\u001b[1;32m----> 1\u001b[0m \u001b[38;5;28mprint\u001b[39m(\u001b[43mc\u001b[49m)\n",
      "\u001b[1;31mNameError\u001b[0m: name 'c' is not defined"
     ]
    }
   ],
   "source": [
    "print(c)"
   ]
  },
  {
   "cell_type": "code",
   "execution_count": null,
   "id": "11388d87",
   "metadata": {},
   "outputs": [],
   "source": [
    "#Function to checK whether a given number is prime\n",
    "def prime(a):\n",
    "            "
   ]
  },
  {
   "cell_type": "code",
   "execution_count": null,
   "id": "db647ce8",
   "metadata": {},
   "outputs": [],
   "source": [
    "prime(3)"
   ]
  },
  {
   "cell_type": "code",
   "execution_count": null,
   "id": "e67f51c2",
   "metadata": {},
   "outputs": [],
   "source": [
    "prime(22)"
   ]
  },
  {
   "cell_type": "code",
   "execution_count": null,
   "id": "ebccba4e",
   "metadata": {},
   "outputs": [],
   "source": [
    "prime(18)"
   ]
  },
  {
   "cell_type": "code",
   "execution_count": null,
   "id": "4e7ed90d",
   "metadata": {},
   "outputs": [],
   "source": [
    "# Arbitrary arguments : *args"
   ]
  },
  {
   "cell_type": "code",
   "execution_count": null,
   "id": "73b01590",
   "metadata": {},
   "outputs": [],
   "source": [
    "def hello(*names):\n",
    "    for name in names:\n",
    "        print(\"hello \"+name)"
   ]
  },
  {
   "cell_type": "code",
   "execution_count": null,
   "id": "24f25ed1",
   "metadata": {},
   "outputs": [],
   "source": [
    "hello(\"A\",\"B\",\"C\",\"D\")"
   ]
  },
  {
   "cell_type": "code",
   "execution_count": null,
   "id": "3466ae65",
   "metadata": {},
   "outputs": [],
   "source": [
    "#Keyword arguments\n",
    "\n",
    "def family(father,mother,son,daughter):\n",
    "    print(\"The father is \"+ father)"
   ]
  },
  {
   "cell_type": "code",
   "execution_count": null,
   "id": "4b829cb7",
   "metadata": {},
   "outputs": [],
   "source": [
    "family(father = \"X\", mother = \"Y\",son=\"Z\",daughter = \"V\")"
   ]
  },
  {
   "cell_type": "code",
   "execution_count": null,
   "id": "253fa874",
   "metadata": {},
   "outputs": [],
   "source": [
    "# Arbitrary keyword argument = **kwargs"
   ]
  },
  {
   "cell_type": "code",
   "execution_count": null,
   "id": "e4c24d7f",
   "metadata": {},
   "outputs": [],
   "source": [
    "def name(**a):\n",
    "    print(\"First name is \",a[\"firstname\"])"
   ]
  },
  {
   "cell_type": "code",
   "execution_count": null,
   "id": "8e1198a3",
   "metadata": {},
   "outputs": [],
   "source": [
    "name(firstname=\"Jyoti\",lastname=\"OJha\")"
   ]
  },
  {
   "cell_type": "code",
   "execution_count": null,
   "id": "04cec582",
   "metadata": {},
   "outputs": [],
   "source": [
    "#Function using list as argument\n",
    "def func(hobby):\n",
    "    \"\"\" This function is for hobbies \"\"\" #Docstrings\n",
    "    for x in hobby:\n",
    "        print(x)"
   ]
  },
  {
   "cell_type": "code",
   "execution_count": null,
   "id": "b82277b5",
   "metadata": {},
   "outputs": [],
   "source": [
    "hobby=[\"swimming\",\"singing\"]"
   ]
  },
  {
   "cell_type": "code",
   "execution_count": null,
   "id": "fd90357e",
   "metadata": {},
   "outputs": [],
   "source": [
    "func(hobby)"
   ]
  },
  {
   "cell_type": "code",
   "execution_count": null,
   "id": "3fb98449",
   "metadata": {},
   "outputs": [],
   "source": [
    "# Default parameter value\n",
    "\n",
    "def func(fruit=\"Apple\"):\n",
    "    print(\"I love \"+fruit)"
   ]
  },
  {
   "cell_type": "code",
   "execution_count": null,
   "id": "b72b8aa6",
   "metadata": {},
   "outputs": [],
   "source": [
    "func()"
   ]
  },
  {
   "cell_type": "code",
   "execution_count": null,
   "id": "ec4f629a",
   "metadata": {},
   "outputs": [],
   "source": [
    "func(\"Mango\")"
   ]
  },
  {
   "cell_type": "code",
   "execution_count": null,
   "id": "e2bcfce2",
   "metadata": {},
   "outputs": [],
   "source": [
    "# DOCSTRINGS : These are used to define the purpose of the given fuction and can be accessed later to check the purpose of defined function.\n",
    "# Docstrings are defined/written at the construction time.\n"
   ]
  },
  {
   "cell_type": "code",
   "execution_count": null,
   "id": "65627a57",
   "metadata": {},
   "outputs": [],
   "source": [
    "# Let's see how to access the doctring which we defined while making function func.\n",
    "print(func.__doc__)"
   ]
  },
  {
   "cell_type": "code",
   "execution_count": null,
   "id": "38612172",
   "metadata": {},
   "outputs": [],
   "source": [
    "#As we can see above that we defined a function func somewhere at an early stage and with the use of docstrings we can check the use of that function later and can use it if needed."
   ]
  },
  {
   "cell_type": "code",
   "execution_count": 18,
   "id": "922e8630",
   "metadata": {},
   "outputs": [],
   "source": [
    "def prime(n):\n",
    "    c=0\n",
    "    for i in range(2,n):\n",
    "        if(n%i==0):\n",
    "            print(\"Not Prime\")\n",
    "            c=1\n",
    "            break\n",
    "    if(c==0):\n",
    "        print(\"Prime\")"
   ]
  },
  {
   "cell_type": "code",
   "execution_count": 19,
   "id": "c4b75163",
   "metadata": {},
   "outputs": [
    {
     "name": "stdout",
     "output_type": "stream",
     "text": [
      "Input a number12\n"
     ]
    }
   ],
   "source": [
    "number=int(input(\"Input a number\"))"
   ]
  },
  {
   "cell_type": "code",
   "execution_count": 20,
   "id": "e3074201",
   "metadata": {},
   "outputs": [
    {
     "name": "stdout",
     "output_type": "stream",
     "text": [
      "Not Prime\n"
     ]
    }
   ],
   "source": [
    "prime(number)"
   ]
  },
  {
   "cell_type": "code",
   "execution_count": null,
   "id": "62f0948b",
   "metadata": {},
   "outputs": [],
   "source": []
  },
  {
   "cell_type": "code",
   "execution_count": null,
   "id": "757123d5",
   "metadata": {},
   "outputs": [],
   "source": []
  },
  {
   "cell_type": "code",
   "execution_count": null,
   "id": "361e636c",
   "metadata": {},
   "outputs": [],
   "source": []
  },
  {
   "cell_type": "code",
   "execution_count": null,
   "id": "51378a96",
   "metadata": {},
   "outputs": [],
   "source": []
  },
  {
   "cell_type": "code",
   "execution_count": null,
   "id": "f5117239",
   "metadata": {},
   "outputs": [],
   "source": []
  },
  {
   "cell_type": "code",
   "execution_count": null,
   "id": "46fa630e",
   "metadata": {},
   "outputs": [],
   "source": []
  },
  {
   "cell_type": "code",
   "execution_count": null,
   "id": "cbca3644",
   "metadata": {},
   "outputs": [],
   "source": []
  }
 ],
 "metadata": {
  "kernelspec": {
   "display_name": "Python 3 (ipykernel)",
   "language": "python",
   "name": "python3"
  },
  "language_info": {
   "codemirror_mode": {
    "name": "ipython",
    "version": 3
   },
   "file_extension": ".py",
   "mimetype": "text/x-python",
   "name": "python",
   "nbconvert_exporter": "python",
   "pygments_lexer": "ipython3",
   "version": "3.9.12"
  }
 },
 "nbformat": 4,
 "nbformat_minor": 5
}
