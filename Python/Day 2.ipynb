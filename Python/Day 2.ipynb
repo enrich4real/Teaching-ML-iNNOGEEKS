{
 "cells": [
  {
   "cell_type": "code",
   "execution_count": 1,
   "id": "6e1cba07",
   "metadata": {},
   "outputs": [
    {
     "name": "stdout",
     "output_type": "stream",
     "text": [
      "Enter a value:   32\n",
      "Enter a value:   33\n",
      "33 is greater than 32\n",
      "elif statement is working here\n"
     ]
    }
   ],
   "source": [
    "a = int(input(\"Enter a value:   \"))\n",
    "b = int(input(\"Enter a value:   \"))\n",
    "if a>b:\n",
    "    print(f\"{a} is greater than {b}\")\n",
    "    print(\"if statement is working here\")\n",
    "    \n",
    "elif b>a:\n",
    "    print(f\"{b} is greater than {a}\")\n",
    "    print(\"elif statement is working here\")\n",
    "    \n",
    "else:\n",
    "    print(\"Both are equal\")\n",
    "    print(\"else statement is working here\")"
   ]
  },
  {
   "cell_type": "code",
   "execution_count": 2,
   "id": "5b1af4e5",
   "metadata": {},
   "outputs": [
    {
     "name": "stdout",
     "output_type": "stream",
     "text": [
      "Enter a value:   34\n",
      "Enter a value:   55\n",
      "Enter a value:   444\n",
      "34 is smallest\n"
     ]
    }
   ],
   "source": [
    "# And\n",
    "x= int(input(\"Enter a value:   \"))\n",
    "y= int(input(\"Enter a value:   \"))\n",
    "z= int(input(\"Enter a value:   \"))\n",
    "if x<y and x<z:\n",
    "    print(f\"{x} is smallest\")\n",
    "elif x>y and x<z:\n",
    "    print(f\"{x} is neither smallest nor largest\")\n",
    "elif x>y and x>z:\n",
    "    print(f\"{x} is largest\")\n",
    "else:\n",
    "    print(\"Error\")"
   ]
  },
  {
   "cell_type": "code",
   "execution_count": 3,
   "id": "a8dcd1bf",
   "metadata": {},
   "outputs": [
    {
     "name": "stdout",
     "output_type": "stream",
     "text": [
      "Enter a value:   43\n",
      "Enter a value:   76\n",
      "Enter a value:   87\n",
      "43 is small than any one if 76 87\n"
     ]
    }
   ],
   "source": [
    "# Or\n",
    "x= int(input(\"Enter a value:   \"))\n",
    "y= int(input(\"Enter a value:   \"))\n",
    "z= int(input(\"Enter a value:   \"))\n",
    "if x<y and x<z:\n",
    "    print(f\"{x} is small than any one if {y} {z}\")\n",
    "elif x>y or x<z:\n",
    "    print(f\"{x} is neither smallest nor largest\")\n",
    "elif x>y or x>z:\n",
    "    print(f\"{x} is largest\")\n",
    "else:\n",
    "    print(\"Error\")"
   ]
  },
  {
   "cell_type": "code",
   "execution_count": 7,
   "id": "31e59b79",
   "metadata": {},
   "outputs": [
    {
     "name": "stdout",
     "output_type": "stream",
     "text": [
      "Enter a value:   30\n",
      "Enter a value:   404\n",
      "Enter a value:   332\n",
      "404 is largest\n"
     ]
    }
   ],
   "source": [
    "# Largest value of 3 input int\n",
    "x= int(input(\"Enter a value:   \"))\n",
    "y= int(input(\"Enter a value:   \"))\n",
    "z= int(input(\"Enter a value:   \"))\n",
    "if x>y and x>z:\n",
    "    print(f\"{x} is largest\")\n",
    "elif y>x and y>z:\n",
    "    print(f\"{y} is largest\")\n",
    "elif z>x and z>y:\n",
    "    print(f\"{z} is largest\")"
   ]
  },
  {
   "cell_type": "code",
   "execution_count": 13,
   "id": "096ee623",
   "metadata": {},
   "outputs": [
    {
     "name": "stdout",
     "output_type": "stream",
     "text": [
      "For loop\n",
      "0\n",
      "1\n",
      "2\n",
      "3\n",
      "4\n",
      "5\n",
      "6\n",
      "7\n",
      "8\n",
      "9\n",
      "While loop\n",
      "0 1 2 3 4 5 6 7 8 9 "
     ]
    }
   ],
   "source": [
    "#looping\n",
    "print(\"For loop with new line character\")\n",
    "for i in range(0,10):\n",
    "    print(i)\n",
    "i = 0\n",
    "print(\"While loop without new line character\")\n",
    "while i<10:\n",
    "    print(i,end=\" \")\n",
    "    i += 1"
   ]
  },
  {
   "cell_type": "code",
   "execution_count": null,
   "id": "e16593bb",
   "metadata": {},
   "outputs": [],
   "source": []
  }
 ],
 "metadata": {
  "kernelspec": {
   "display_name": "Python 3 (ipykernel)",
   "language": "python",
   "name": "python3"
  },
  "language_info": {
   "codemirror_mode": {
    "name": "ipython",
    "version": 3
   },
   "file_extension": ".py",
   "mimetype": "text/x-python",
   "name": "python",
   "nbconvert_exporter": "python",
   "pygments_lexer": "ipython3",
   "version": "3.9.13"
  }
 },
 "nbformat": 4,
 "nbformat_minor": 5
}
