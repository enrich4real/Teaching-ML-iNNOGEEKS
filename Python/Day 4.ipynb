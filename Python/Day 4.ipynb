{
 "cells": [
  {
   "cell_type": "markdown",
   "id": "df82bdfb",
   "metadata": {},
   "source": [
    "# Day 4"
   ]
  },
  {
   "cell_type": "code",
   "execution_count": 60,
   "id": "a96489b0",
   "metadata": {},
   "outputs": [],
   "source": [
    "list=[x for x in range(10)]"
   ]
  },
  {
   "cell_type": "code",
   "execution_count": 61,
   "id": "f5bd53c6",
   "metadata": {},
   "outputs": [
    {
     "data": {
      "text/plain": [
       "[0, 1, 2, 3, 4, 5, 6, 7, 8, 9]"
      ]
     },
     "execution_count": 61,
     "metadata": {},
     "output_type": "execute_result"
    }
   ],
   "source": [
    "list "
   ]
  },
  {
   "cell_type": "code",
   "execution_count": 7,
   "id": "667b8828",
   "metadata": {},
   "outputs": [
    {
     "data": {
      "text/plain": [
       "184"
      ]
     },
     "execution_count": 7,
     "metadata": {},
     "output_type": "execute_result"
    }
   ],
   "source": [
    "import sys\n",
    "sys.getsizeof(list)"
   ]
  },
  {
   "cell_type": "code",
   "execution_count": 66,
   "id": "491dcbbc",
   "metadata": {},
   "outputs": [],
   "source": [
    "y=dir(sys)"
   ]
  },
  {
   "cell_type": "code",
   "execution_count": 67,
   "id": "7007d53e",
   "metadata": {},
   "outputs": [
    {
     "data": {
      "text/plain": [
       "['__breakpointhook__',\n",
       " '__displayhook__',\n",
       " '__doc__',\n",
       " '__excepthook__',\n",
       " '__interactivehook__',\n",
       " '__loader__',\n",
       " '__name__',\n",
       " '__package__',\n",
       " '__spec__',\n",
       " '__stderr__',\n",
       " '__stdin__',\n",
       " '__stdout__',\n",
       " '__unraisablehook__',\n",
       " '_base_executable',\n",
       " '_clear_type_cache',\n",
       " '_current_frames',\n",
       " '_debugmallocstats',\n",
       " '_enablelegacywindowsfsencoding',\n",
       " '_framework',\n",
       " '_getframe',\n",
       " '_git',\n",
       " '_home',\n",
       " '_xoptions',\n",
       " 'addaudithook',\n",
       " 'api_version',\n",
       " 'argv',\n",
       " 'audit',\n",
       " 'base_exec_prefix',\n",
       " 'base_prefix',\n",
       " 'breakpointhook',\n",
       " 'builtin_module_names',\n",
       " 'byteorder',\n",
       " 'call_tracing',\n",
       " 'copyright',\n",
       " 'displayhook',\n",
       " 'dllhandle',\n",
       " 'dont_write_bytecode',\n",
       " 'exc_info',\n",
       " 'excepthook',\n",
       " 'exec_prefix',\n",
       " 'executable',\n",
       " 'exit',\n",
       " 'flags',\n",
       " 'float_info',\n",
       " 'float_repr_style',\n",
       " 'get_asyncgen_hooks',\n",
       " 'get_coroutine_origin_tracking_depth',\n",
       " 'getallocatedblocks',\n",
       " 'getdefaultencoding',\n",
       " 'getfilesystemencodeerrors',\n",
       " 'getfilesystemencoding',\n",
       " 'getprofile',\n",
       " 'getrecursionlimit',\n",
       " 'getrefcount',\n",
       " 'getsizeof',\n",
       " 'getswitchinterval',\n",
       " 'gettrace',\n",
       " 'getwindowsversion',\n",
       " 'hash_info',\n",
       " 'hexversion',\n",
       " 'implementation',\n",
       " 'int_info',\n",
       " 'intern',\n",
       " 'is_finalizing',\n",
       " 'last_traceback',\n",
       " 'last_type',\n",
       " 'last_value',\n",
       " 'maxsize',\n",
       " 'maxunicode',\n",
       " 'meta_path',\n",
       " 'modules',\n",
       " 'path',\n",
       " 'path_hooks',\n",
       " 'path_importer_cache',\n",
       " 'platform',\n",
       " 'platlibdir',\n",
       " 'prefix',\n",
       " 'ps1',\n",
       " 'ps2',\n",
       " 'ps3',\n",
       " 'pycache_prefix',\n",
       " 'set_asyncgen_hooks',\n",
       " 'set_coroutine_origin_tracking_depth',\n",
       " 'setprofile',\n",
       " 'setrecursionlimit',\n",
       " 'setswitchinterval',\n",
       " 'settrace',\n",
       " 'stderr',\n",
       " 'stdin',\n",
       " 'stdout',\n",
       " 'thread_info',\n",
       " 'unraisablehook',\n",
       " 'version',\n",
       " 'version_info',\n",
       " 'warnoptions',\n",
       " 'winver']"
      ]
     },
     "execution_count": 67,
     "metadata": {},
     "output_type": "execute_result"
    }
   ],
   "source": [
    "y"
   ]
  },
  {
   "cell_type": "code",
   "execution_count": 9,
   "id": "d6312835",
   "metadata": {},
   "outputs": [
    {
     "data": {
      "text/plain": [
       "48"
      ]
     },
     "execution_count": 9,
     "metadata": {},
     "output_type": "execute_result"
    }
   ],
   "source": [
    "x=range(1000000000)\n",
    "sys.getsizeof(x)"
   ]
  },
  {
   "cell_type": "code",
   "execution_count": 10,
   "id": "3c7d4c7c",
   "metadata": {},
   "outputs": [],
   "source": [
    "#STRINGS"
   ]
  },
  {
   "cell_type": "code",
   "execution_count": 12,
   "id": "a8380a68",
   "metadata": {},
   "outputs": [
    {
     "name": "stdout",
     "output_type": "stream",
     "text": [
      "I\n",
      "N\n",
      "N\n",
      "O\n",
      "G\n",
      "E\n",
      "E\n",
      "K\n",
      "S\n"
     ]
    }
   ],
   "source": [
    "for x in \"INNOGEEKS\":\n",
    "    print(x)\n",
    "\n"
   ]
  },
  {
   "cell_type": "code",
   "execution_count": 13,
   "id": "91dde156",
   "metadata": {},
   "outputs": [],
   "source": [
    "a=\"Hello, World !\""
   ]
  },
  {
   "cell_type": "code",
   "execution_count": 14,
   "id": "4fc02123",
   "metadata": {},
   "outputs": [
    {
     "name": "stdout",
     "output_type": "stream",
     "text": [
      "H\n",
      "e\n",
      "l\n",
      "l\n",
      "o\n",
      ",\n",
      " \n",
      "W\n",
      "o\n",
      "r\n",
      "l\n",
      "d\n",
      " \n",
      "!\n"
     ]
    }
   ],
   "source": [
    "for x in a:\n",
    "    print(x)"
   ]
  },
  {
   "cell_type": "code",
   "execution_count": 15,
   "id": "29e1b1e5",
   "metadata": {},
   "outputs": [
    {
     "data": {
      "text/plain": [
       "'Hello, World !'"
      ]
     },
     "execution_count": 15,
     "metadata": {},
     "output_type": "execute_result"
    }
   ],
   "source": [
    "a"
   ]
  },
  {
   "cell_type": "code",
   "execution_count": null,
   "id": "a3e7070e",
   "metadata": {},
   "outputs": [],
   "source": [
    "#string[start:stop:skip]"
   ]
  },
  {
   "cell_type": "code",
   "execution_count": 35,
   "id": "d09d4f76",
   "metadata": {},
   "outputs": [
    {
     "name": "stdout",
     "output_type": "stream",
     "text": [
      "! dlroW\n"
     ]
    }
   ],
   "source": [
    "print(a[-1:-8:-1])"
   ]
  },
  {
   "cell_type": "code",
   "execution_count": 30,
   "id": "30cd9c39",
   "metadata": {},
   "outputs": [
    {
     "name": "stdout",
     "output_type": "stream",
     "text": [
      "Hello, W\n"
     ]
    }
   ],
   "source": [
    "print(a[:8])"
   ]
  },
  {
   "cell_type": "code",
   "execution_count": 31,
   "id": "f8dc0d38",
   "metadata": {},
   "outputs": [
    {
     "name": "stdout",
     "output_type": "stream",
     "text": [
      "ello, World !\n"
     ]
    }
   ],
   "source": [
    "print(a[1:])"
   ]
  },
  {
   "cell_type": "code",
   "execution_count": 32,
   "id": "da54df54",
   "metadata": {},
   "outputs": [
    {
     "name": "stdout",
     "output_type": "stream",
     "text": [
      "el,W\n"
     ]
    }
   ],
   "source": [
    "print(a[1:8:2])"
   ]
  },
  {
   "cell_type": "code",
   "execution_count": 37,
   "id": "0058a7ea",
   "metadata": {},
   "outputs": [
    {
     "name": "stdout",
     "output_type": "stream",
     "text": [
      "!drW,le\n"
     ]
    }
   ],
   "source": [
    "print(a[::-2])"
   ]
  },
  {
   "cell_type": "code",
   "execution_count": 38,
   "id": "5de7ba0f",
   "metadata": {},
   "outputs": [],
   "source": [
    "str=\"hello, i am studying in innogeeks class\""
   ]
  },
  {
   "cell_type": "code",
   "execution_count": 56,
   "id": "6126cb38",
   "metadata": {},
   "outputs": [
    {
     "name": "stdout",
     "output_type": "stream",
     "text": [
      "False\n"
     ]
    },
    {
     "name": "stderr",
     "output_type": "stream",
     "text": [
      "<>:1: SyntaxWarning: \"is\" with a literal. Did you mean \"==\"?\n",
      "<>:1: SyntaxWarning: \"is\" with a literal. Did you mean \"==\"?\n",
      "C:\\Users\\rachi\\AppData\\Local\\Temp\\ipykernel_3616\\2766503600.py:1: SyntaxWarning: \"is\" with a literal. Did you mean \"==\"?\n",
      "  print(\"am\" is str)\n"
     ]
    }
   ],
   "source": [
    "print(\"am\" is str)"
   ]
  },
  {
   "cell_type": "code",
   "execution_count": 40,
   "id": "16b74d11",
   "metadata": {},
   "outputs": [
    {
     "data": {
      "text/plain": [
       "'HELLO, I AM STUDYING IN INNOGEEKS CLASS'"
      ]
     },
     "execution_count": 40,
     "metadata": {},
     "output_type": "execute_result"
    }
   ],
   "source": [
    "str.upper()"
   ]
  },
  {
   "cell_type": "code",
   "execution_count": 41,
   "id": "18461ff9",
   "metadata": {},
   "outputs": [
    {
     "data": {
      "text/plain": [
       "'hello, i am studying in innogeeks class'"
      ]
     },
     "execution_count": 41,
     "metadata": {},
     "output_type": "execute_result"
    }
   ],
   "source": [
    "str"
   ]
  },
  {
   "cell_type": "code",
   "execution_count": 42,
   "id": "062feaa0",
   "metadata": {},
   "outputs": [
    {
     "data": {
      "text/plain": [
       "'hello, i am studying in innogeeks class'"
      ]
     },
     "execution_count": 42,
     "metadata": {},
     "output_type": "execute_result"
    }
   ],
   "source": [
    "str.lower()\n"
   ]
  },
  {
   "cell_type": "code",
   "execution_count": 54,
   "id": "b4d7af0c",
   "metadata": {},
   "outputs": [],
   "source": [
    "str1 = str + \" Suyash\" + \"23\""
   ]
  },
  {
   "cell_type": "code",
   "execution_count": 55,
   "id": "6b18850f",
   "metadata": {},
   "outputs": [
    {
     "data": {
      "text/plain": [
       "'hello, i am studying in innogeeks class Suyash23'"
      ]
     },
     "execution_count": 55,
     "metadata": {},
     "output_type": "execute_result"
    }
   ],
   "source": [
    "str1"
   ]
  },
  {
   "cell_type": "code",
   "execution_count": 58,
   "id": "085a4104",
   "metadata": {},
   "outputs": [],
   "source": [
    "list = ['a','b','c','d']"
   ]
  },
  {
   "cell_type": "code",
   "execution_count": 62,
   "id": "26c19a16",
   "metadata": {},
   "outputs": [
    {
     "data": {
      "text/plain": [
       "[0, 1, 2, 3, 4, 5, 6, 7, 8, 9]"
      ]
     },
     "execution_count": 62,
     "metadata": {},
     "output_type": "execute_result"
    }
   ],
   "source": [
    "list"
   ]
  },
  {
   "cell_type": "markdown",
   "id": "c84965d2",
   "metadata": {},
   "source": [
    "# Functions\n"
   ]
  },
  {
   "cell_type": "code",
   "execution_count": 99,
   "id": "947b70f0",
   "metadata": {},
   "outputs": [],
   "source": [
    "def inno(size,size2):\n",
    "    print(\"rachitavya\"+size+size2)"
   ]
  },
  {
   "cell_type": "code",
   "execution_count": 101,
   "id": "bff18527",
   "metadata": {},
   "outputs": [
    {
     "name": "stdout",
     "output_type": "stream",
     "text": [
      "rachitavya 30 31\n"
     ]
    }
   ],
   "source": [
    "inno(\" 30\",\" 31\")"
   ]
  },
  {
   "cell_type": "code",
   "execution_count": 107,
   "id": "091e668b",
   "metadata": {},
   "outputs": [],
   "source": [
    "import rachitavya"
   ]
  },
  {
   "cell_type": "code",
   "execution_count": 87,
   "id": "4d8e6b78",
   "metadata": {},
   "outputs": [],
   "source": [
    "ans=rachitavya"
   ]
  },
  {
   "cell_type": "code",
   "execution_count": 89,
   "id": "bd432946",
   "metadata": {},
   "outputs": [
    {
     "data": {
      "text/plain": [
       "module"
      ]
     },
     "execution_count": 89,
     "metadata": {},
     "output_type": "execute_result"
    }
   ],
   "source": [
    "type(ans)"
   ]
  },
  {
   "cell_type": "code",
   "execution_count": 96,
   "id": "3f1c7258",
   "metadata": {},
   "outputs": [
    {
     "name": "stdout",
     "output_type": "stream",
     "text": [
      "hello\n"
     ]
    }
   ],
   "source": [
    "ans.myFunc()"
   ]
  },
  {
   "cell_type": "code",
   "execution_count": 92,
   "id": "9e6b6331",
   "metadata": {},
   "outputs": [],
   "source": [
    "def inno(*size):\n",
    "    print(\"rachitavya\"+size[1]+size[2])\n",
    "    "
   ]
  },
  {
   "cell_type": "code",
   "execution_count": 94,
   "id": "899f960e",
   "metadata": {},
   "outputs": [
    {
     "name": "stdout",
     "output_type": "stream",
     "text": [
      "rachitavya32\n"
     ]
    }
   ],
   "source": [
    "inno(\"4\",\"3\",\"2\")"
   ]
  },
  {
   "cell_type": "code",
   "execution_count": null,
   "id": "3a8d6cc9",
   "metadata": {},
   "outputs": [],
   "source": []
  }
 ],
 "metadata": {
  "kernelspec": {
   "display_name": "Python 3 (ipykernel)",
   "language": "python",
   "name": "python3"
  },
  "language_info": {
   "codemirror_mode": {
    "name": "ipython",
    "version": 3
   },
   "file_extension": ".py",
   "mimetype": "text/x-python",
   "name": "python",
   "nbconvert_exporter": "python",
   "pygments_lexer": "ipython3",
   "version": "3.9.12"
  }
 },
 "nbformat": 4,
 "nbformat_minor": 5
}
